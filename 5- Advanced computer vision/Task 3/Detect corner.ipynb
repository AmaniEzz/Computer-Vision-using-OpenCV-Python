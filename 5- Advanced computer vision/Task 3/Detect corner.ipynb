{
 "cells": [
  {
   "cell_type": "markdown",
   "metadata": {},
   "source": [
    "# Detect corner of an image by the Shi-Tomasi method using OpenCV\n",
    "\n",
    "\n",
    "### What is the corner?\n",
    "\n",
    "- The corners of an image are basically identified as the regions in which there are variations in large intensity of         the gradient in all possible dimensions and directions. \n",
    "\n",
    "- A corner can be interpreted as the junction of two edges (where an edge is a sudden change in image brightness).\n",
    "\n",
    "\n",
    "### Shi-Tomasi Corner Detection ?\n",
    "\n",
    "- We consider a small window on the image then scan the whole image, looking for corners.\n",
    "\n",
    "- If we’re scanning the image with a window just as we would with a kernel and we notice that there is an area where there’s a major change no matter in what direction we actually scan, then we have a good intuition that there’s probably a corner there.\n",
    "\n",
    "`cv2.goodFeaturesToTrack()` method finds N strongest corners in the image by Shi-Tomasi method. \n",
    "\n",
    "Note that the image should be a grayscale image.\n",
    "Specify the number of corners you want to find and the quality level (which is a value between 0-1). It denotes the minimum quality of corner below which everyone is rejected. Then provide the minimum Euclidean distance between corners detected.\n",
    "\n",
    "- The function finds N strongest corners in the image or in the specified image region by Shi-Tomasi method.\n",
    "- Function calculates the corner quality measure at every pixel using the **cornerMinEigenVal** or **cornerHarris**.\n",
    "- Function performs a **non-maximum suppression** (the local maximums in 3 x 3 neighborhood are retained).    \n",
    "- The corners with the minimal eigenvalue less than qualityLevel are rejected.\n",
    "- The remaining corners are sorted by the quality measure in the descending order.\n",
    "- Function throws away each corner for which there is a stronger corner at a distance less than maxDistance.\n",
    "\n",
    "---\n",
    "\n",
    "\n",
    "**Syntax:** `cv2.goodFeaturesToTrack(image, maxCorners, qualityLevel, minDistance[, corners[, mask[, blockSize[, useHarrisDetector[, k]]]]])`\n",
    "\n",
    "\n",
    "**Parameters:**\n",
    "\n",
    "\n",
    "- ***image:***\tInput 8-bit or floating-point 32-bit, single-channel image.\n",
    "\n",
    "\n",
    "- ***corners:***\tOutput vector of detected corners.\n",
    "\n",
    "\n",
    "- ***maxCorners:***\tMaximum number of corners to return (preferred value=10). If there are more corners than are found, the strongest of them is returned. maxCorners <= 0 implies that no limit on the maximum is set and all detected corners are returned. \n",
    "\n",
    "\n",
    "- ***qualityLevel:***\tParameter characterizing the minimal accepted quality of image corners (preferred value=0.01). The parameter value is multiplied by the best corner quality measure, which is the minimal eigenvalue or the Harris function response (see cornerHarris ). The corners with the quality measure less than the product are rejected. For example, if the best corner has the quality measure = 1500, and the qualityLevel=0.01 , then all the corners with the quality measure less than 15 are rejected.\n",
    "\n",
    "\n",
    "- ***minDistance:***\tMinimum possible Euclidean distance between the returned corners. \n",
    "\n",
    "\n",
    "- ***mask:*** Optional region of interest. If the image is not empty (it needs to have the type CV_8UC1 and the same size as image ), it specifies the region in which the corners are detected.\n",
    "\n",
    "\n",
    "- ***blockSize:***\tSize of an average block for computing a derivative covariation matrix over each pixel neighborhood.\n",
    "\n",
    "\n",
    "- ***useHarrisDetector:***\tParameter indicating whether to use a **Harris detector** or **cornerMinEigenVal**.\n",
    "\n",
    "\n",
    "- ***k:***\tFree parameter of the Harris detector.\n",
    "\n",
    "\n",
    "**Resource**: [https://www.geeksforgeeks.org/python-corner-detection-with-shi-tomasi-corner-detection-method-using-opencv/?ref=lbp](https://www.geeksforgeeks.org/python-corner-detection-with-shi-tomasi-corner-detection-method-using-opencv/?ref=lbp)"
   ]
  },
  {
   "cell_type": "code",
   "execution_count": 6,
   "metadata": {},
   "outputs": [
    {
     "data": {
      "image/png": "[encoded data removed]",
      "text/plain": [
       "<Figure size 432x288 with 1 Axes>"
      ]
     },
     "metadata": {
      "needs_background": "light"
     },
     "output_type": "display_data"
    },
    {
     "data": {
      "text/plain": [
       "(<matplotlib.image.AxesImage at 0x2b53ee11748>, None)"
      ]
     },
     "execution_count": 6,
     "metadata": {},
     "output_type": "execute_result"
    }
   ],
   "source": [
    "# import the required library \n",
    "import numpy as np \n",
    "import cv2 \n",
    "from matplotlib import pyplot as plt \n",
    "\n",
    "  \n",
    "# read the image \n",
    "img = cv2.imread('corner1.png') \n",
    "  \n",
    "# convert image to gray scale image \n",
    "gray = cv2.cvtColor(img, cv2.COLOR_BGR2GRAY) \n",
    "  \n",
    "# Shi-Tomasi corner detection function \n",
    "# We are detecting only 27 best corners here\n",
    "corners = cv2.goodFeaturesToTrack(gray, 27, 0.01, 10) \n",
    "corners = np.int0(corners) \n",
    "  \n",
    "# we iterate through each corner,  \n",
    "# making a circle at each point that we think is a corner. \n",
    "for i in corners: \n",
    "    x, y = i.ravel() \n",
    "    cv2.circle(img, (x, y), 3, 255, -1) \n",
    "\n",
    "plt.imshow(img), plt.show() "
   ]
  },
  {
   "cell_type": "markdown",
   "metadata": {},
   "source": [
    "# Corner detection with Harris Corner Detection method\n",
    "\n",
    "\n",
    "     Harris Corner detection algorithm was developed to identify the internal corners of an image.\n",
    "     \n",
    "     \n",
    "**Syntax:** `cv.cornerHarris(src, blockSize, ksize, k[, dst[, borderType]])`\n",
    "\n",
    "The function runs the Harris corner detector on the image. Similarly to **cornerMinEigenVal** and **cornerEigenValsAndVecs** , for each pixel **(x,y)** it calculates a **2×2 gradient covariance matrix** M(x,y) over a **blockSize × blockSize** neighborhood.\n",
    "\n",
    "\n",
    "**Parameters:**\n",
    "- ***src :–*** Input Image (Single-channel, 8-bit or floating-point)\n",
    "- ***dest :–*** Image to store the Harris detector responses. Size is same as source image\n",
    "- ***blockSize :–*** Neighborhood size ( for each pixel value blockSize * blockSize neighbourhood is considered )\n",
    "- ***ksize :–*** Aperture parameter for the Sobel() operator\n",
    "- ***k :–*** Harris detector free parameter\n",
    "- ***borderType :–*** Pixel extrapolation method (the extrapolation mode used returns the coordinate of the pixel corresponding to the specified extrapolated pixel )\n",
    "\n",
    "\n",
    "\n",
    "***Additional resources:***\n",
    "- [https://www.youtube.com/watch?v=KH8Mq9FPVPw](https://www.youtube.com/watch?v=KH8Mq9FPVPw)\n",
    "- [https://docs.opencv.org/3.4/dd/d1a/group__imgproc__feature.html#gac1fc3598018010880e370e2f709b4345](https://docs.opencv.org/3.4/dd/d1a/group__imgproc__feature.html#gac1fc3598018010880e370e2f709b4345)"
   ]
  },
  {
   "cell_type": "code",
   "execution_count": 3,
   "metadata": {},
   "outputs": [
    {
     "data": {
      "text/plain": [
       "<matplotlib.image.AxesImage at 0x250f3073780>"
      ]
     },
     "execution_count": 3,
     "metadata": {},
     "output_type": "execute_result"
    },
    {
     "data": {
      "image/png": "[encoded data removed]",
      "text/plain": [
       "<Figure size 432x288 with 1 Axes>"
      ]
     },
     "metadata": {
      "needs_background": "light"
     },
     "output_type": "display_data"
    }
   ],
   "source": [
    "import cv2 \n",
    "import numpy as np \n",
    "from matplotlib import pyplot as plt \n",
    "  \n",
    "image = cv2.imread('image.png') \n",
    "  \n",
    "# 1) Convert to grayscale\n",
    "operatedImage = cv2.cvtColor(image, cv2.COLOR_BGR2GRAY) \n",
    "  \n",
    "# 2) modify the data type setting to 32-bit floating point \n",
    "operatedImage = np.float32(operatedImage) \n",
    "  \n",
    "# 3) apply the cv2.cornerHarris method with appropriate values as input parameters.\n",
    "dest = cv2.cornerHarris(operatedImage, 2, 5, 0.07) \n",
    "  \n",
    "# 4) Results are marked through the dilated corners.\n",
    "dest = cv2.dilate(dest, None) \n",
    "  \n",
    "# 5) Reverting back to the original image, with optimal threshold value.\n",
    "image[dest > 0.01 * dest.max()]=[0, 0, 255] \n",
    "  \n",
    "plt.imshow(image)"
   ]
  },
  {
   "cell_type": "code",
   "execution_count": null,
   "metadata": {},
   "outputs": [],
   "source": []
  }
 ],
 "metadata": {
  "kernelspec": {
   "display_name": "Python 3",
   "language": "python",
   "name": "python3"
  },
  "language_info": {
   "codemirror_mode": {
    "name": "ipython",
    "version": 3
   },
   "file_extension": ".py",
   "mimetype": "text/x-python",
   "name": "python",
   "nbconvert_exporter": "python",
   "pygments_lexer": "ipython3",
   "version": "3.7.1"
  }
 },
 "nbformat": 4,
 "nbformat_minor": 4
}
