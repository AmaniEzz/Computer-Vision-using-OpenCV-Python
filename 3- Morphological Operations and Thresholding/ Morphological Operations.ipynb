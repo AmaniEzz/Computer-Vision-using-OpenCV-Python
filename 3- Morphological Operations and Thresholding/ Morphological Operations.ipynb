{
 "cells": [
  {
   "cell_type": "markdown",
   "metadata": {},
   "source": [
    "## 1) Erosion and Dilation of images using OpenCV in python\n",
    "\n",
    "#### Morphological operations\n",
    "Morphological operations are a set of operations that process images based on shapes. They apply a structuring element to an input image and generate an output image. \n",
    "\n",
    "The most basic morphological operations are two: **Erosion** and **Dilation**.\n",
    "\n",
    "Erosion basically strips out the outermost layer of pixels in a structure, where as dilation adds an extra layer of pixels on a structure.\n",
    "\n",
    "### 1- Erosion:\n",
    "- Erodes away the boundaries of foreground object\n",
    "- Used to diminish the features of an image.\n",
    "\n",
    "\n",
    "   - **Working of erosion**:\n",
    "      - A kernel(a matrix of odd size(3,5,7) is convolved with the image.\n",
    "      - A pixel in the original image (either 1 or 0) will be considered 1 only if all the pixels under the kernel is 1, otherwise it is eroded (made to zero).\n",
    "      - Thus all the pixels near boundary will be discarded depending upon the size of kernel.\n",
    "      - So the thickness or size of the foreground object decreases or simply white region decreases in the image.\n",
    "\n",
    "**Syntax**: `cv2.erode(src, kernel[, dst[, anchor[, iterations[, borderType[, borderValue]]]]])`\n",
    "\n",
    "**Parameters:**\n",
    "- **src**: It is the image which is to be eroded .\n",
    "- **kernel**: A structuring element used for erosion. If element = Mat(), a 3 x 3 rectangular structuring element is used. Kernel can be created using getStructuringElement.\n",
    "- **dst**: It is the output image of the same size and type as src.\n",
    "- **anchor**: It is a variable of type integer representing anchor point and it’s default value Point is (-1, -1) which means that the anchor is at the kernel center.\n",
    "- **iterations**: It is number of times erosion is applied.\n",
    "- **borderType**: It depicts what kind of border to be added. It is defined by flags like cv2.BORDER_CONSTANT, cv2.BORDER_REFLECT, etc.\n",
    "- **borderValue**: It is border value in case of a constant border.\n",
    "\n",
    "**Return Value:** It returns an image."
   ]
  },
  {
   "cell_type": "markdown",
   "metadata": {},
   "source": [
    "### 2- Dilation:\n",
    "\n",
    "- Increases the object area\n",
    "- Used to accentuate features\n",
    "\n",
    "\n",
    "   - **Working of dilation**:\n",
    "      - A kernel(a matrix of odd size(3,5,7) is convolved with the image\n",
    "      - A pixel element in the original image is ‘1’ if atleast one pixel under the kernel is ‘1’.\n",
    "      - It increases the white region in the image or size of foreground object increases filter_none\n",
    "      \n",
    "**Syntax :** `cv.dilate(src, kernel[, dst[, anchor[, iterations[, borderType[, borderValue]]]]])`"
   ]
  },
  {
   "cell_type": "markdown",
   "metadata": {},
   "source": [
    "- Aditional resources: \n",
    "     - [https://www.geeksforgeeks.org/python-opencv-cv2-erode-method/](https://www.geeksforgeeks.org/python-opencv-cv2-erode-method/)\n",
    "     - [https://opencv-python- tutroals.readthedocs.io/en/latest/py_tutorials/py_imgproc/py_morphological_ops/py_morphological_ops.html](https://opencv-python-tutroals.readthedocs.io/en/latest/py_tutorials/py_imgproc/py_morphological_ops/py_morphological_ops.html)\n",
    "     - [https://docs.opencv.org/3.4/d4/d86/group__imgproc__filter.html#ga4ff0f3318642c4f469d0e11f242f3b6c](https://docs.opencv.org/3.4/d4/d86/group__imgproc__filter.html#ga4ff0f3318642c4f469d0e11f242f3b6c)"
   ]
  },
  {
   "cell_type": "code",
   "execution_count": 43,
   "metadata": {},
   "outputs": [
    {
     "data": {
      "image/png": "[encoded data removed]",
      "text/plain": [
       "<Figure size 360x360 with 1 Axes>"
      ]
     },
     "metadata": {
      "needs_background": "light"
     },
     "output_type": "display_data"
    },
    {
     "data": {
      "image/png": "[encoded data removed]",
      "text/plain": [
       "<Figure size 360x360 with 1 Axes>"
      ]
     },
     "metadata": {
      "needs_background": "light"
     },
     "output_type": "display_data"
    },
    {
     "data": {
      "image/png": "[encoded data removed]",
      "text/plain": [
       "<Figure size 360x360 with 1 Axes>"
      ]
     },
     "metadata": {
      "needs_background": "light"
     },
     "output_type": "display_data"
    }
   ],
   "source": [
    "# Python program to demonstrate erosion and  \n",
    "# dilation of images. \n",
    "import cv2 \n",
    "import numpy as np \n",
    "import matplotlib.pyplot as plt  \n",
    "\n",
    "def display(count, Titles, images):\n",
    "    for i in range(count): \n",
    "        plt.figure(figsize=(5,5))\n",
    "        plt.title(Titles[i]) \n",
    "        plt.imshow(cv2.cvtColor(images[i], cv2.COLOR_BGR2RGB))\n",
    "        \n",
    "        \n",
    "img = cv2.imread(\"j.png\", 0) \n",
    "  \n",
    "# Taking a matrix of size 5 as the kernel \n",
    "# structuring element or kernel is the matrix with which image is convolved\n",
    "kernel = np.ones((5,5), np.uint8) \n",
    "  \n",
    "# The first parameter is the original image, \n",
    "# third parameter is the number of iterations, which will determine how much you want to erode/dilate a given image.  \n",
    "\n",
    "img_erosion  = cv2.erode(img, kernel, iterations=1) \n",
    "img_dilation = cv2.dilate(img, kernel, iterations=1)  \n",
    "  \n",
    "Titles = [\"Original\", \"Erosion\", \"Dilation\"] \n",
    "images = [img, img_erosion, img_dilation] \n",
    "count  = 3\n",
    "\n",
    "display(count, Titles, images )"
   ]
  },
  {
   "cell_type": "markdown",
   "metadata": {},
   "source": [
    "---"
   ]
  },
  {
   "cell_type": "markdown",
   "metadata": {},
   "source": [
    "---"
   ]
  }
 ],
 "metadata": {
  "kernelspec": {
   "display_name": "Python 3",
   "language": "python",
   "name": "python3"
  },
  "language_info": {
   "codemirror_mode": {
    "name": "ipython",
    "version": 3
   },
   "file_extension": ".py",
   "mimetype": "text/x-python",
   "name": "python",
   "nbconvert_exporter": "python",
   "pygments_lexer": "ipython3",
   "version": "3.7.1"
  }
 },
 "nbformat": 4,
 "nbformat_minor": 4
}
